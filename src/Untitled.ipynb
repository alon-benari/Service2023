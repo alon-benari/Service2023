{
 "cells": [
  {
   "cell_type": "markdown",
   "id": "45a81f48-13ba-46f1-9590-52aa03137857",
   "metadata": {},
   "source": [
    "# Clinical Informatics 2023\n",
    "##        Service Brief"
   ]
  },
  {
   "cell_type": "markdown",
   "id": "49ccaf6a-fe96-4a72-91c2-ca8421b8dca9",
   "metadata": {},
   "source": [
    "##Year in review\n",
    "-- Staffing of CAC, workload\n",
    "-- State Veteran Home at Yountville\n",
    "-- New VERA program for NorCal.\n",
    "-- \n",
    "--"
   ]
  },
  {
   "cell_type": "code",
   "execution_count": null,
   "id": "34c6d25b-2069-4fab-bcef-5eef491b4959",
   "metadata": {},
   "outputs": [],
   "source": []
  },
  {
   "cell_type": "code",
   "execution_count": null,
   "id": "33ab3b99-c964-443d-8fb5-a38b7136e501",
   "metadata": {},
   "outputs": [],
   "source": [
    "pyplot as plt \n",
    "import pandas as pd\n",
    "\n",
    "class Service2023:\n",
    "    '''\n",
    "    A set of methods to create a notebook for slides of state of the service.\n",
    "    \n",
    "    '''\n",
    "\n",
    "    def load_cac(self):\n",
    "        '''\n",
    "        A method to load the CAC data \n",
    "        '''\n",
    "        self.data = pd.read_csv('./assets/CACData_2023.csv')\n",
    "        self.data['DateInitiated'] = self.data[\"Date Initiated\"].apply(lambda x: pd.Timestamp(x))\n",
    "        self.data['DateResolved'] = self.data[\"Date Resolved\"].apply(lambda x: pd.Timestamp(x))\n",
    "    \n",
    "    def agg_cac(self, start= '2022-01-01'):\n",
    "        '''\n",
    "        Aggregate data for the CAC perfomance\n",
    "        '''\n",
    "        data = self.data[self.data.DateInitiated >=start]\n",
    "        \n",
    "        return data[['UID','DateInitiated']].groupby('DateInitiated')\n",
    "\n",
    "    def load_barcode(self):\n",
    "        '''\n",
    "        A method to load the Staff Scan In dataset\n",
    "        '''\n",
    "        self.barcode = pd.read_csv('./assets/StaffScanIn.csv')\n",
    "        self.barcode['LoggedDateTime'] = self.barcode['LoggedDateTIme'].apply(lambda x: pd.Timestamp(x))\n",
    "        self.barcode['Location'] = self.barcode['BarCode: Location']\n",
    "\n",
    "\n",
    "s = Service2022()\n",
    "##"
   ]
  }
 ],
 "metadata": {
  "kernelspec": {
   "display_name": "Python 3 (ipykernel)",
   "language": "python",
   "name": "python3"
  },
  "language_info": {
   "codemirror_mode": {
    "name": "ipython",
    "version": 3
   },
   "file_extension": ".py",
   "mimetype": "text/x-python",
   "name": "python",
   "nbconvert_exporter": "python",
   "pygments_lexer": "ipython3",
   "version": "3.9.7"
  }
 },
 "nbformat": 4,
 "nbformat_minor": 5
}
